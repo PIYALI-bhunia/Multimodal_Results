{
  "cells": [
    {
      "cell_type": "markdown",
      "metadata": {
        "id": "view-in-github",
        "colab_type": "text"
      },
      "source": [
        "<a href=\"https://colab.research.google.com/github/PIYALI-bhunia/Multimodal_Results/blob/main/Resnet_50_Storing_Result_in_CSV.ipynb\" target=\"_parent\"><img src=\"https://colab.research.google.com/assets/colab-badge.svg\" alt=\"Open In Colab\"/></a>"
      ]
    },
    {
      "cell_type": "markdown",
      "metadata": {
        "id": "xzwEOMpMf9qZ"
      },
      "source": [
        "##Import necessary modules"
      ]
    },
    {
      "cell_type": "code",
      "execution_count": 1,
      "metadata": {
        "id": "jq0K1a_LWvE9"
      },
      "outputs": [],
      "source": [
        "import os\n",
        "import cv2\n",
        "import numpy as np\n",
        "import pandas as pd\n",
        "import tensorflow as tf\n",
        "from tensorflow import keras\n",
        "import pathlib\n",
        "from keras.models import Sequential\n",
        "from keras.layers import Dense, Activation, Flatten\n",
        "from tensorflow.keras.optimizers import Adam, Adamax\n",
        "from tensorflow.keras.metrics import categorical_crossentropy\n",
        "from tensorflow.keras import regularizers\n",
        "from tensorflow.keras.models import Model, load_model\n",
        "from sklearn.model_selection import train_test_split\n",
        "from sklearn.metrics import confusion_matrix, classification_report"
      ]
    },
    {
      "cell_type": "code",
      "execution_count": 3,
      "metadata": {
        "colab": {
          "base_uri": "https://localhost:8080/",
          "height": 328
        },
        "id": "hN1QRfMuWyh7",
        "outputId": "59738b4a-410b-4fe0-dfcd-b3ab025333ae"
      },
      "outputs": [
        {
          "output_type": "error",
          "ename": "MessageError",
          "evalue": "ignored",
          "traceback": [
            "\u001b[0;31m---------------------------------------------------------------------------\u001b[0m",
            "\u001b[0;31mMessageError\u001b[0m                              Traceback (most recent call last)",
            "\u001b[0;32m<ipython-input-3-d5df0069828e>\u001b[0m in \u001b[0;36m<module>\u001b[0;34m()\u001b[0m\n\u001b[1;32m      1\u001b[0m \u001b[0;32mfrom\u001b[0m \u001b[0mgoogle\u001b[0m\u001b[0;34m.\u001b[0m\u001b[0mcolab\u001b[0m \u001b[0;32mimport\u001b[0m \u001b[0mdrive\u001b[0m\u001b[0;34m\u001b[0m\u001b[0;34m\u001b[0m\u001b[0m\n\u001b[0;32m----> 2\u001b[0;31m \u001b[0mdrive\u001b[0m\u001b[0;34m.\u001b[0m\u001b[0mmount\u001b[0m\u001b[0;34m(\u001b[0m\u001b[0;34m'/content/drive'\u001b[0m\u001b[0;34m)\u001b[0m\u001b[0;34m\u001b[0m\u001b[0;34m\u001b[0m\u001b[0m\n\u001b[0m",
            "\u001b[0;32m/usr/local/lib/python3.7/dist-packages/google/colab/drive.py\u001b[0m in \u001b[0;36mmount\u001b[0;34m(mountpoint, force_remount, timeout_ms)\u001b[0m\n\u001b[1;32m    107\u001b[0m       \u001b[0mforce_remount\u001b[0m\u001b[0;34m=\u001b[0m\u001b[0mforce_remount\u001b[0m\u001b[0;34m,\u001b[0m\u001b[0;34m\u001b[0m\u001b[0;34m\u001b[0m\u001b[0m\n\u001b[1;32m    108\u001b[0m       \u001b[0mtimeout_ms\u001b[0m\u001b[0;34m=\u001b[0m\u001b[0mtimeout_ms\u001b[0m\u001b[0;34m,\u001b[0m\u001b[0;34m\u001b[0m\u001b[0;34m\u001b[0m\u001b[0m\n\u001b[0;32m--> 109\u001b[0;31m       ephemeral=True)\n\u001b[0m\u001b[1;32m    110\u001b[0m \u001b[0;34m\u001b[0m\u001b[0m\n\u001b[1;32m    111\u001b[0m \u001b[0;34m\u001b[0m\u001b[0m\n",
            "\u001b[0;32m/usr/local/lib/python3.7/dist-packages/google/colab/drive.py\u001b[0m in \u001b[0;36m_mount\u001b[0;34m(mountpoint, force_remount, timeout_ms, ephemeral)\u001b[0m\n\u001b[1;32m    122\u001b[0m   \u001b[0;32mif\u001b[0m \u001b[0mephemeral\u001b[0m\u001b[0;34m:\u001b[0m\u001b[0;34m\u001b[0m\u001b[0;34m\u001b[0m\u001b[0m\n\u001b[1;32m    123\u001b[0m     _message.blocking_request(\n\u001b[0;32m--> 124\u001b[0;31m         'request_auth', request={'authType': 'dfs_ephemeral'}, timeout_sec=None)\n\u001b[0m\u001b[1;32m    125\u001b[0m \u001b[0;34m\u001b[0m\u001b[0m\n\u001b[1;32m    126\u001b[0m   \u001b[0mmountpoint\u001b[0m \u001b[0;34m=\u001b[0m \u001b[0m_os\u001b[0m\u001b[0;34m.\u001b[0m\u001b[0mpath\u001b[0m\u001b[0;34m.\u001b[0m\u001b[0mexpanduser\u001b[0m\u001b[0;34m(\u001b[0m\u001b[0mmountpoint\u001b[0m\u001b[0;34m)\u001b[0m\u001b[0;34m\u001b[0m\u001b[0;34m\u001b[0m\u001b[0m\n",
            "\u001b[0;32m/usr/local/lib/python3.7/dist-packages/google/colab/_message.py\u001b[0m in \u001b[0;36mblocking_request\u001b[0;34m(request_type, request, timeout_sec, parent)\u001b[0m\n\u001b[1;32m    173\u001b[0m   request_id = send_request(\n\u001b[1;32m    174\u001b[0m       request_type, request, parent=parent, expect_reply=True)\n\u001b[0;32m--> 175\u001b[0;31m   \u001b[0;32mreturn\u001b[0m \u001b[0mread_reply_from_input\u001b[0m\u001b[0;34m(\u001b[0m\u001b[0mrequest_id\u001b[0m\u001b[0;34m,\u001b[0m \u001b[0mtimeout_sec\u001b[0m\u001b[0;34m)\u001b[0m\u001b[0;34m\u001b[0m\u001b[0;34m\u001b[0m\u001b[0m\n\u001b[0m",
            "\u001b[0;32m/usr/local/lib/python3.7/dist-packages/google/colab/_message.py\u001b[0m in \u001b[0;36mread_reply_from_input\u001b[0;34m(message_id, timeout_sec)\u001b[0m\n\u001b[1;32m    104\u001b[0m         reply.get('colab_msg_id') == message_id):\n\u001b[1;32m    105\u001b[0m       \u001b[0;32mif\u001b[0m \u001b[0;34m'error'\u001b[0m \u001b[0;32min\u001b[0m \u001b[0mreply\u001b[0m\u001b[0;34m:\u001b[0m\u001b[0;34m\u001b[0m\u001b[0;34m\u001b[0m\u001b[0m\n\u001b[0;32m--> 106\u001b[0;31m         \u001b[0;32mraise\u001b[0m \u001b[0mMessageError\u001b[0m\u001b[0;34m(\u001b[0m\u001b[0mreply\u001b[0m\u001b[0;34m[\u001b[0m\u001b[0;34m'error'\u001b[0m\u001b[0;34m]\u001b[0m\u001b[0;34m)\u001b[0m\u001b[0;34m\u001b[0m\u001b[0;34m\u001b[0m\u001b[0m\n\u001b[0m\u001b[1;32m    107\u001b[0m       \u001b[0;32mreturn\u001b[0m \u001b[0mreply\u001b[0m\u001b[0;34m.\u001b[0m\u001b[0mget\u001b[0m\u001b[0;34m(\u001b[0m\u001b[0;34m'data'\u001b[0m\u001b[0;34m,\u001b[0m \u001b[0;32mNone\u001b[0m\u001b[0;34m)\u001b[0m\u001b[0;34m\u001b[0m\u001b[0;34m\u001b[0m\u001b[0m\n\u001b[1;32m    108\u001b[0m \u001b[0;34m\u001b[0m\u001b[0m\n",
            "\u001b[0;31mMessageError\u001b[0m: Error: credential propagation was unsuccessful"
          ]
        }
      ],
      "source": [
        "from google.colab import drive\n",
        "drive.mount('/content/drive')"
      ]
    },
    {
      "cell_type": "markdown",
      "metadata": {
        "id": "BkpRsDAzgWlt"
      },
      "source": [
        "##Load the dataset"
      ]
    },
    {
      "cell_type": "code",
      "execution_count": 4,
      "metadata": {
        "colab": {
          "base_uri": "https://localhost:8080/"
        },
        "id": "div0KOOPXRrQ",
        "outputId": "78a9b00b-5338-47df-d787-f355db44e733"
      },
      "outputs": [
        {
          "output_type": "stream",
          "name": "stdout",
          "text": [
            "/content/drive/MyDrive/Tobacco3482-jpg\n",
            "/content/drive/MyDrive/Tobacco3482-jpg/Letter\n",
            "/content/drive/MyDrive/Tobacco3482-jpg/Tobacco3482-jpg\n",
            "/content/drive/MyDrive/Tobacco3482-jpg/Scientific\n",
            "/content/drive/MyDrive/Tobacco3482-jpg/Memo\n",
            "/content/drive/MyDrive/Tobacco3482-jpg/Note\n",
            "/content/drive/MyDrive/Tobacco3482-jpg/Report\n",
            "/content/drive/MyDrive/Tobacco3482-jpg/News\n",
            "/content/drive/MyDrive/Tobacco3482-jpg/Email\n",
            "/content/drive/MyDrive/Tobacco3482-jpg/Form\n",
            "/content/drive/MyDrive/Tobacco3482-jpg/Resume\n",
            "/content/drive/MyDrive/Tobacco3482-jpg/ADVE\n"
          ]
        }
      ],
      "source": [
        "data_root = pathlib.Path('/content/drive/MyDrive/Tobacco3482-jpg')\n",
        "\n",
        "print(data_root)\n",
        "for item in data_root.iterdir():\n",
        "  print(item)"
      ]
    },
    {
      "cell_type": "code",
      "execution_count": 6,
      "metadata": {
        "colab": {
          "base_uri": "https://localhost:8080/"
        },
        "id": "Q-LLlXtIXRu5",
        "outputId": "e0d3bc5b-9986-4428-c586-14dbb815a84f"
      },
      "outputs": [
        {
          "output_type": "stream",
          "name": "stdout",
          "text": [
            "3482\n",
            "3482\n"
          ]
        }
      ],
      "source": [
        "def get_file_paths_and_labels(data_root):\n",
        "     img_paths = [str(path) for path in data_root.glob('*/*.jpg')]\n",
        "     labels = [p.split(\"/\")[-2] for p in img_paths]\n",
        "     return img_paths, labels\n",
        "\n",
        "img_paths, labels = get_file_paths_and_labels(data_root)\n",
        "# print(img_paths)\n",
        "# print(labels)\n",
        "print(len(img_paths))\n",
        "print(len(labels))"
      ]
    },
    {
      "cell_type": "markdown",
      "metadata": {
        "id": "ktDaZq2ggecN"
      },
      "source": [
        "##Create the dataframe"
      ]
    },
    {
      "cell_type": "code",
      "execution_count": 7,
      "metadata": {
        "colab": {
          "base_uri": "https://localhost:8080/",
          "height": 206
        },
        "id": "2SxLcFLjXRxS",
        "outputId": "5bfabe9b-b94c-4c8c-bc5b-3a866679da5a"
      },
      "outputs": [
        {
          "output_type": "execute_result",
          "data": {
            "text/plain": [
              "                                          image_path data_label\n",
              "0  /content/drive/MyDrive/Tobacco3482-jpg/Letter/...     Letter\n",
              "1  /content/drive/MyDrive/Tobacco3482-jpg/Letter/...     Letter\n",
              "2  /content/drive/MyDrive/Tobacco3482-jpg/Letter/...     Letter\n",
              "3  /content/drive/MyDrive/Tobacco3482-jpg/Letter/...     Letter\n",
              "4  /content/drive/MyDrive/Tobacco3482-jpg/Letter/...     Letter"
            ],
            "text/html": [
              "\n",
              "  <div id=\"df-ca31f2b7-453b-44c8-bce2-f8edee0d3ddd\">\n",
              "    <div class=\"colab-df-container\">\n",
              "      <div>\n",
              "<style scoped>\n",
              "    .dataframe tbody tr th:only-of-type {\n",
              "        vertical-align: middle;\n",
              "    }\n",
              "\n",
              "    .dataframe tbody tr th {\n",
              "        vertical-align: top;\n",
              "    }\n",
              "\n",
              "    .dataframe thead th {\n",
              "        text-align: right;\n",
              "    }\n",
              "</style>\n",
              "<table border=\"1\" class=\"dataframe\">\n",
              "  <thead>\n",
              "    <tr style=\"text-align: right;\">\n",
              "      <th></th>\n",
              "      <th>image_path</th>\n",
              "      <th>data_label</th>\n",
              "    </tr>\n",
              "  </thead>\n",
              "  <tbody>\n",
              "    <tr>\n",
              "      <th>0</th>\n",
              "      <td>/content/drive/MyDrive/Tobacco3482-jpg/Letter/...</td>\n",
              "      <td>Letter</td>\n",
              "    </tr>\n",
              "    <tr>\n",
              "      <th>1</th>\n",
              "      <td>/content/drive/MyDrive/Tobacco3482-jpg/Letter/...</td>\n",
              "      <td>Letter</td>\n",
              "    </tr>\n",
              "    <tr>\n",
              "      <th>2</th>\n",
              "      <td>/content/drive/MyDrive/Tobacco3482-jpg/Letter/...</td>\n",
              "      <td>Letter</td>\n",
              "    </tr>\n",
              "    <tr>\n",
              "      <th>3</th>\n",
              "      <td>/content/drive/MyDrive/Tobacco3482-jpg/Letter/...</td>\n",
              "      <td>Letter</td>\n",
              "    </tr>\n",
              "    <tr>\n",
              "      <th>4</th>\n",
              "      <td>/content/drive/MyDrive/Tobacco3482-jpg/Letter/...</td>\n",
              "      <td>Letter</td>\n",
              "    </tr>\n",
              "  </tbody>\n",
              "</table>\n",
              "</div>\n",
              "      <button class=\"colab-df-convert\" onclick=\"convertToInteractive('df-ca31f2b7-453b-44c8-bce2-f8edee0d3ddd')\"\n",
              "              title=\"Convert this dataframe to an interactive table.\"\n",
              "              style=\"display:none;\">\n",
              "        \n",
              "  <svg xmlns=\"http://www.w3.org/2000/svg\" height=\"24px\"viewBox=\"0 0 24 24\"\n",
              "       width=\"24px\">\n",
              "    <path d=\"M0 0h24v24H0V0z\" fill=\"none\"/>\n",
              "    <path d=\"M18.56 5.44l.94 2.06.94-2.06 2.06-.94-2.06-.94-.94-2.06-.94 2.06-2.06.94zm-11 1L8.5 8.5l.94-2.06 2.06-.94-2.06-.94L8.5 2.5l-.94 2.06-2.06.94zm10 10l.94 2.06.94-2.06 2.06-.94-2.06-.94-.94-2.06-.94 2.06-2.06.94z\"/><path d=\"M17.41 7.96l-1.37-1.37c-.4-.4-.92-.59-1.43-.59-.52 0-1.04.2-1.43.59L10.3 9.45l-7.72 7.72c-.78.78-.78 2.05 0 2.83L4 21.41c.39.39.9.59 1.41.59.51 0 1.02-.2 1.41-.59l7.78-7.78 2.81-2.81c.8-.78.8-2.07 0-2.86zM5.41 20L4 18.59l7.72-7.72 1.47 1.35L5.41 20z\"/>\n",
              "  </svg>\n",
              "      </button>\n",
              "      \n",
              "  <style>\n",
              "    .colab-df-container {\n",
              "      display:flex;\n",
              "      flex-wrap:wrap;\n",
              "      gap: 12px;\n",
              "    }\n",
              "\n",
              "    .colab-df-convert {\n",
              "      background-color: #E8F0FE;\n",
              "      border: none;\n",
              "      border-radius: 50%;\n",
              "      cursor: pointer;\n",
              "      display: none;\n",
              "      fill: #1967D2;\n",
              "      height: 32px;\n",
              "      padding: 0 0 0 0;\n",
              "      width: 32px;\n",
              "    }\n",
              "\n",
              "    .colab-df-convert:hover {\n",
              "      background-color: #E2EBFA;\n",
              "      box-shadow: 0px 1px 2px rgba(60, 64, 67, 0.3), 0px 1px 3px 1px rgba(60, 64, 67, 0.15);\n",
              "      fill: #174EA6;\n",
              "    }\n",
              "\n",
              "    [theme=dark] .colab-df-convert {\n",
              "      background-color: #3B4455;\n",
              "      fill: #D2E3FC;\n",
              "    }\n",
              "\n",
              "    [theme=dark] .colab-df-convert:hover {\n",
              "      background-color: #434B5C;\n",
              "      box-shadow: 0px 1px 3px 1px rgba(0, 0, 0, 0.15);\n",
              "      filter: drop-shadow(0px 1px 2px rgba(0, 0, 0, 0.3));\n",
              "      fill: #FFFFFF;\n",
              "    }\n",
              "  </style>\n",
              "\n",
              "      <script>\n",
              "        const buttonEl =\n",
              "          document.querySelector('#df-ca31f2b7-453b-44c8-bce2-f8edee0d3ddd button.colab-df-convert');\n",
              "        buttonEl.style.display =\n",
              "          google.colab.kernel.accessAllowed ? 'block' : 'none';\n",
              "\n",
              "        async function convertToInteractive(key) {\n",
              "          const element = document.querySelector('#df-ca31f2b7-453b-44c8-bce2-f8edee0d3ddd');\n",
              "          const dataTable =\n",
              "            await google.colab.kernel.invokeFunction('convertToInteractive',\n",
              "                                                     [key], {});\n",
              "          if (!dataTable) return;\n",
              "\n",
              "          const docLinkHtml = 'Like what you see? Visit the ' +\n",
              "            '<a target=\"_blank\" href=https://colab.research.google.com/notebooks/data_table.ipynb>data table notebook</a>'\n",
              "            + ' to learn more about interactive tables.';\n",
              "          element.innerHTML = '';\n",
              "          dataTable['output_type'] = 'display_data';\n",
              "          await google.colab.output.renderOutput(dataTable, element);\n",
              "          const docLink = document.createElement('div');\n",
              "          docLink.innerHTML = docLinkHtml;\n",
              "          element.appendChild(docLink);\n",
              "        }\n",
              "      </script>\n",
              "    </div>\n",
              "  </div>\n",
              "  "
            ]
          },
          "metadata": {},
          "execution_count": 7
        }
      ],
      "source": [
        "df = pd.DataFrame(list(zip(img_paths, labels)),\n",
        "               columns =['image_path', 'data_label'])\n",
        "df.head()"
      ]
    },
    {
      "cell_type": "code",
      "execution_count": 8,
      "metadata": {
        "colab": {
          "base_uri": "https://localhost:8080/",
          "height": 206
        },
        "id": "uH3I1TXPY0_3",
        "outputId": "f8fa078a-fa6c-4d9d-9a2f-f9ed2b5d21b0"
      },
      "outputs": [
        {
          "output_type": "execute_result",
          "data": {
            "text/plain": [
              "                                          image_path  data_label\n",
              "0  /content/drive/MyDrive/Tobacco3482-jpg/Letter/...           3\n",
              "1  /content/drive/MyDrive/Tobacco3482-jpg/Letter/...           3\n",
              "2  /content/drive/MyDrive/Tobacco3482-jpg/Letter/...           3\n",
              "3  /content/drive/MyDrive/Tobacco3482-jpg/Letter/...           3\n",
              "4  /content/drive/MyDrive/Tobacco3482-jpg/Letter/...           3"
            ],
            "text/html": [
              "\n",
              "  <div id=\"df-e32ee7cb-0b48-430e-b182-c136e26d3bda\">\n",
              "    <div class=\"colab-df-container\">\n",
              "      <div>\n",
              "<style scoped>\n",
              "    .dataframe tbody tr th:only-of-type {\n",
              "        vertical-align: middle;\n",
              "    }\n",
              "\n",
              "    .dataframe tbody tr th {\n",
              "        vertical-align: top;\n",
              "    }\n",
              "\n",
              "    .dataframe thead th {\n",
              "        text-align: right;\n",
              "    }\n",
              "</style>\n",
              "<table border=\"1\" class=\"dataframe\">\n",
              "  <thead>\n",
              "    <tr style=\"text-align: right;\">\n",
              "      <th></th>\n",
              "      <th>image_path</th>\n",
              "      <th>data_label</th>\n",
              "    </tr>\n",
              "  </thead>\n",
              "  <tbody>\n",
              "    <tr>\n",
              "      <th>0</th>\n",
              "      <td>/content/drive/MyDrive/Tobacco3482-jpg/Letter/...</td>\n",
              "      <td>3</td>\n",
              "    </tr>\n",
              "    <tr>\n",
              "      <th>1</th>\n",
              "      <td>/content/drive/MyDrive/Tobacco3482-jpg/Letter/...</td>\n",
              "      <td>3</td>\n",
              "    </tr>\n",
              "    <tr>\n",
              "      <th>2</th>\n",
              "      <td>/content/drive/MyDrive/Tobacco3482-jpg/Letter/...</td>\n",
              "      <td>3</td>\n",
              "    </tr>\n",
              "    <tr>\n",
              "      <th>3</th>\n",
              "      <td>/content/drive/MyDrive/Tobacco3482-jpg/Letter/...</td>\n",
              "      <td>3</td>\n",
              "    </tr>\n",
              "    <tr>\n",
              "      <th>4</th>\n",
              "      <td>/content/drive/MyDrive/Tobacco3482-jpg/Letter/...</td>\n",
              "      <td>3</td>\n",
              "    </tr>\n",
              "  </tbody>\n",
              "</table>\n",
              "</div>\n",
              "      <button class=\"colab-df-convert\" onclick=\"convertToInteractive('df-e32ee7cb-0b48-430e-b182-c136e26d3bda')\"\n",
              "              title=\"Convert this dataframe to an interactive table.\"\n",
              "              style=\"display:none;\">\n",
              "        \n",
              "  <svg xmlns=\"http://www.w3.org/2000/svg\" height=\"24px\"viewBox=\"0 0 24 24\"\n",
              "       width=\"24px\">\n",
              "    <path d=\"M0 0h24v24H0V0z\" fill=\"none\"/>\n",
              "    <path d=\"M18.56 5.44l.94 2.06.94-2.06 2.06-.94-2.06-.94-.94-2.06-.94 2.06-2.06.94zm-11 1L8.5 8.5l.94-2.06 2.06-.94-2.06-.94L8.5 2.5l-.94 2.06-2.06.94zm10 10l.94 2.06.94-2.06 2.06-.94-2.06-.94-.94-2.06-.94 2.06-2.06.94z\"/><path d=\"M17.41 7.96l-1.37-1.37c-.4-.4-.92-.59-1.43-.59-.52 0-1.04.2-1.43.59L10.3 9.45l-7.72 7.72c-.78.78-.78 2.05 0 2.83L4 21.41c.39.39.9.59 1.41.59.51 0 1.02-.2 1.41-.59l7.78-7.78 2.81-2.81c.8-.78.8-2.07 0-2.86zM5.41 20L4 18.59l7.72-7.72 1.47 1.35L5.41 20z\"/>\n",
              "  </svg>\n",
              "      </button>\n",
              "      \n",
              "  <style>\n",
              "    .colab-df-container {\n",
              "      display:flex;\n",
              "      flex-wrap:wrap;\n",
              "      gap: 12px;\n",
              "    }\n",
              "\n",
              "    .colab-df-convert {\n",
              "      background-color: #E8F0FE;\n",
              "      border: none;\n",
              "      border-radius: 50%;\n",
              "      cursor: pointer;\n",
              "      display: none;\n",
              "      fill: #1967D2;\n",
              "      height: 32px;\n",
              "      padding: 0 0 0 0;\n",
              "      width: 32px;\n",
              "    }\n",
              "\n",
              "    .colab-df-convert:hover {\n",
              "      background-color: #E2EBFA;\n",
              "      box-shadow: 0px 1px 2px rgba(60, 64, 67, 0.3), 0px 1px 3px 1px rgba(60, 64, 67, 0.15);\n",
              "      fill: #174EA6;\n",
              "    }\n",
              "\n",
              "    [theme=dark] .colab-df-convert {\n",
              "      background-color: #3B4455;\n",
              "      fill: #D2E3FC;\n",
              "    }\n",
              "\n",
              "    [theme=dark] .colab-df-convert:hover {\n",
              "      background-color: #434B5C;\n",
              "      box-shadow: 0px 1px 3px 1px rgba(0, 0, 0, 0.15);\n",
              "      filter: drop-shadow(0px 1px 2px rgba(0, 0, 0, 0.3));\n",
              "      fill: #FFFFFF;\n",
              "    }\n",
              "  </style>\n",
              "\n",
              "      <script>\n",
              "        const buttonEl =\n",
              "          document.querySelector('#df-e32ee7cb-0b48-430e-b182-c136e26d3bda button.colab-df-convert');\n",
              "        buttonEl.style.display =\n",
              "          google.colab.kernel.accessAllowed ? 'block' : 'none';\n",
              "\n",
              "        async function convertToInteractive(key) {\n",
              "          const element = document.querySelector('#df-e32ee7cb-0b48-430e-b182-c136e26d3bda');\n",
              "          const dataTable =\n",
              "            await google.colab.kernel.invokeFunction('convertToInteractive',\n",
              "                                                     [key], {});\n",
              "          if (!dataTable) return;\n",
              "\n",
              "          const docLinkHtml = 'Like what you see? Visit the ' +\n",
              "            '<a target=\"_blank\" href=https://colab.research.google.com/notebooks/data_table.ipynb>data table notebook</a>'\n",
              "            + ' to learn more about interactive tables.';\n",
              "          element.innerHTML = '';\n",
              "          dataTable['output_type'] = 'display_data';\n",
              "          await google.colab.output.renderOutput(dataTable, element);\n",
              "          const docLink = document.createElement('div');\n",
              "          docLink.innerHTML = docLinkHtml;\n",
              "          element.appendChild(docLink);\n",
              "        }\n",
              "      </script>\n",
              "    </div>\n",
              "  </div>\n",
              "  "
            ]
          },
          "metadata": {},
          "execution_count": 8
        }
      ],
      "source": [
        "from sklearn import preprocessing\n",
        "le = preprocessing.LabelEncoder()\n",
        "df['data_label']= le.fit_transform(df['data_label'])\n",
        "df.head()"
      ]
    },
    {
      "cell_type": "code",
      "execution_count": 9,
      "metadata": {
        "id": "0pIRriCGY7F8"
      },
      "outputs": [],
      "source": [
        "df['data_label'] = [str(i) for i in df['data_label']]"
      ]
    },
    {
      "cell_type": "code",
      "execution_count": 10,
      "metadata": {
        "colab": {
          "base_uri": "https://localhost:8080/"
        },
        "id": "ntiVwbICY2_Q",
        "outputId": "b6c140da-ff3e-4ec2-a2b3-09070726d0f5"
      },
      "outputs": [
        {
          "output_type": "stream",
          "name": "stdout",
          "text": [
            "{'Letter': '3', 'Scientific': '9', 'Memo': '4', 'Note': '6', 'Report': '7', 'News': '5', 'Email': '1', 'Form': '2', 'Resume': '8', 'ADVE': '0'}\n"
          ]
        }
      ],
      "source": [
        "labels_dict = {}\n",
        "for idx, this_path in enumerate(df['image_path']):\n",
        "    labels_dict[this_path.split(\"/\")[-2]] = df['data_label'][idx]\n",
        "    \n",
        "print(labels_dict)"
      ]
    },
    {
      "cell_type": "code",
      "execution_count": 11,
      "metadata": {
        "colab": {
          "base_uri": "https://localhost:8080/"
        },
        "id": "o28iXSmnXRz6",
        "outputId": "948cbc51-b6c1-4e75-f590-82343a7cf703"
      },
      "outputs": [
        {
          "output_type": "stream",
          "name": "stdout",
          "text": [
            "4    620\n",
            "1    599\n",
            "3    567\n",
            "2    431\n",
            "7    265\n",
            "9    261\n",
            "0    230\n",
            "6    201\n",
            "5    188\n",
            "8    120\n",
            "Name: data_label, dtype: int64\n"
          ]
        }
      ],
      "source": [
        "balance=df['data_label'].value_counts()\n",
        "print (balance)"
      ]
    },
    {
      "cell_type": "markdown",
      "metadata": {
        "id": "3gDZ5jg7gmta"
      },
      "source": [
        "##Split the dataframe into train , test and validation"
      ]
    },
    {
      "cell_type": "code",
      "execution_count": 12,
      "metadata": {
        "id": "x5C1GD1dZXLO"
      },
      "outputs": [],
      "source": [
        "from sklearn.metrics import classification_report, confusion_matrix\n",
        "from sklearn.metrics import precision_score, recall_score, f1_score, accuracy_score\n",
        "import random\n",
        "random.seed(56)"
      ]
    },
    {
      "cell_type": "code",
      "execution_count": null,
      "metadata": {
        "colab": {
          "base_uri": "https://localhost:8080/"
        },
        "id": "SP8zqiTGZiMc",
        "outputId": "5f8ec168-392d-4dae-94bb-2b944e2f0514"
      },
      "outputs": [
        {
          "output_type": "stream",
          "name": "stdout",
          "text": [
            "#Run:  1\n",
            "Found 2437 validated image filenames belonging to 10 classes.\n",
            "Found 523 validated image filenames belonging to 10 classes.\n",
            "Found 522 validated image filenames belonging to 10 classes.\n",
            "Downloading data from https://storage.googleapis.com/tensorflow/keras-applications/resnet/resnet50_weights_tf_dim_ordering_tf_kernels_notop.h5\n",
            "94773248/94765736 [==============================] - 1s 0us/step\n",
            "94781440/94765736 [==============================] - 1s 0us/step\n",
            "Epoch 1/30\n",
            "\n",
            "Epoch 1: val_loss improved from inf to 3.17281, saving model to /model-001-0.378334-0.464627.h5\n",
            "77/77 - 794s - loss: 9.4143 - accuracy: 0.3783 - val_loss: 3.1728 - val_accuracy: 0.4646 - 794s/epoch - 10s/step\n",
            "Epoch 2/30\n",
            "\n",
            "Epoch 2: val_loss improved from 3.17281 to 2.48442, saving model to /model-002-0.459171-0.447419.h5\n",
            "77/77 - 476s - loss: 2.7484 - accuracy: 0.4592 - val_loss: 2.4844 - val_accuracy: 0.4474 - 476s/epoch - 6s/step\n",
            "Epoch 3/30\n",
            "\n",
            "Epoch 3: val_loss improved from 2.48442 to 2.21101, saving model to /model-003-0.479688-0.483748.h5\n",
            "77/77 - 456s - loss: 2.3180 - accuracy: 0.4797 - val_loss: 2.2110 - val_accuracy: 0.4837 - 456s/epoch - 6s/step\n",
            "Epoch 4/30\n",
            "\n",
            "Epoch 4: val_loss improved from 2.21101 to 2.07047, saving model to /model-004-0.517439-0.489484.h5\n",
            "77/77 - 454s - loss: 2.1014 - accuracy: 0.5174 - val_loss: 2.0705 - val_accuracy: 0.4895 - 454s/epoch - 6s/step\n",
            "Epoch 5/30\n",
            "\n",
            "Epoch 5: val_loss improved from 2.07047 to 1.95647, saving model to /model-005-0.526057-0.481836.h5\n",
            "77/77 - 453s - loss: 1.9724 - accuracy: 0.5261 - val_loss: 1.9565 - val_accuracy: 0.4818 - 453s/epoch - 6s/step\n",
            "Epoch 6/30\n",
            "\n",
            "Epoch 6: val_loss improved from 1.95647 to 1.87320, saving model to /model-006-0.527288-0.533461.h5\n",
            "77/77 - 453s - loss: 1.8856 - accuracy: 0.5273 - val_loss: 1.8732 - val_accuracy: 0.5335 - 453s/epoch - 6s/step\n",
            "Epoch 7/30\n",
            "\n",
            "Epoch 7: val_loss improved from 1.87320 to 1.82843, saving model to /model-007-0.549036-0.495220.h5\n",
            "77/77 - 453s - loss: 1.8047 - accuracy: 0.5490 - val_loss: 1.8284 - val_accuracy: 0.4952 - 453s/epoch - 6s/step\n",
            "Epoch 8/30\n",
            "\n",
            "Epoch 8: val_loss improved from 1.82843 to 1.76089, saving model to /model-008-0.536725-0.523901.h5\n",
            "77/77 - 453s - loss: 1.7533 - accuracy: 0.5367 - val_loss: 1.7609 - val_accuracy: 0.5239 - 453s/epoch - 6s/step\n",
            "Epoch 9/30\n",
            "\n",
            "Epoch 9: val_loss improved from 1.76089 to 1.73125, saving model to /model-009-0.558474-0.537285.h5\n",
            "77/77 - 453s - loss: 1.7050 - accuracy: 0.5585 - val_loss: 1.7313 - val_accuracy: 0.5373 - 453s/epoch - 6s/step\n",
            "Epoch 10/30\n",
            "\n",
            "Epoch 10: val_loss improved from 1.73125 to 1.67965, saving model to /model-010-0.563398-0.544933.h5\n",
            "77/77 - 452s - loss: 1.6644 - accuracy: 0.5634 - val_loss: 1.6796 - val_accuracy: 0.5449 - 452s/epoch - 6s/step\n",
            "Epoch 11/30\n",
            "\n",
            "Epoch 11: val_loss improved from 1.67965 to 1.65484, saving model to /model-011-0.565860-0.546845.h5\n",
            "77/77 - 452s - loss: 1.6226 - accuracy: 0.5659 - val_loss: 1.6548 - val_accuracy: 0.5468 - 452s/epoch - 6s/step\n",
            "Epoch 12/30\n",
            "\n",
            "Epoch 12: val_loss improved from 1.65484 to 1.64451, saving model to /model-012-0.572015-0.531549.h5\n",
            "77/77 - 453s - loss: 1.5906 - accuracy: 0.5720 - val_loss: 1.6445 - val_accuracy: 0.5315 - 453s/epoch - 6s/step\n",
            "Epoch 13/30\n",
            "\n",
            "Epoch 13: val_loss improved from 1.64451 to 1.60082, saving model to /model-013-0.575297-0.556405.h5\n",
            "77/77 - 453s - loss: 1.5696 - accuracy: 0.5753 - val_loss: 1.6008 - val_accuracy: 0.5564 - 453s/epoch - 6s/step\n",
            "Epoch 14/30\n",
            "\n",
            "Epoch 14: val_loss improved from 1.60082 to 1.58525, saving model to /model-014-0.578170-0.565966.h5\n",
            "77/77 - 454s - loss: 1.5416 - accuracy: 0.5782 - val_loss: 1.5852 - val_accuracy: 0.5660 - 454s/epoch - 6s/step\n",
            "Epoch 15/30\n"
          ]
        }
      ],
      "source": [
        "batch_size=32\n",
        "epochs = 30\n",
        "fine_tune_epochs = 20\n",
        "def scalar(x):\n",
        "    return x/127.5-1\n",
        "\n",
        "d = {\n",
        "    \"precision\" : [],\n",
        "     \"recall\" : [],\n",
        "     \"f1_score\" : [],\n",
        "     \"accuracy\" : [],\n",
        "     \"seed_value\" : []\n",
        "}\n",
        "seed = []\n",
        "\n",
        "\n",
        "for i in range(5):\n",
        "    print('#Run: ', i+1)\n",
        "    sd = random.randint(0, 100)\n",
        "    seed.append(sd)\n",
        "\n",
        "    train_df, dummy_df=train_test_split(df, test_size=0.3, shuffle=True, random_state=0)\n",
        "    test_df, valid_df= train_test_split(dummy_df, test_size=0.5, shuffle=True, random_state=0)\n",
        "\n",
        "    length=len(test_df)\n",
        "\n",
        "    ######## Keras datagenerator #########\n",
        "    trgen=tf.keras.preprocessing.image.ImageDataGenerator(preprocessing_function=scalar)\n",
        "\n",
        "    train_gen=trgen.flow_from_dataframe(train_df, x_col='image_path', y_col='data_label', target_size=(224,224), class_mode='categorical',batch_size=batch_size, shuffle=True, seed=sd)\n",
        "\n",
        "    tvgen=tf.keras.preprocessing.image.ImageDataGenerator(preprocessing_function=scalar)\n",
        "\n",
        "    valid_gen=tvgen.flow_from_dataframe(valid_df, x_col='image_path', y_col='data_label', target_size=(224,224), class_mode='categorical',batch_size=batch_size, shuffle=False, seed=sd)\n",
        "   \n",
        "    # determine test generator batch size and steps to go through the test set exactly once for predictions\n",
        "    test_batch_size=sorted([int(length/n) for n in range(1,length+1) if length % n ==0 and length/n<=batch_size],reverse=True)[0]  \n",
        "\n",
        "    test_steps=int(length/test_batch_size)\n",
        "\n",
        "    test_gen=tvgen.flow_from_dataframe(test_df, x_col='image_path', y_col='data_label', target_size=(224,224), class_mode='categorical',batch_size=test_batch_size, shuffle=False, seed=sd)\n",
        "\n",
        "    test_labels=test_gen.labels\n",
        "    \n",
        "\n",
        "    img_shape=(224,224,3)\n",
        "    class_count = 10\n",
        "    dropout=0.2\n",
        "    lr= 0.001\n",
        "    base_model= tf.keras.applications.ResNet50(include_top=False,\n",
        "                   input_shape=(224,224,3),\n",
        "                   pooling='avg',classes=10,\n",
        "                   weights='imagenet')\n",
        "\n",
        "    base_model.trainable=False\n",
        "\n",
        "    inputs = keras.Input(shape=img_shape)\n",
        "    x = base_model(inputs, training=False)\n",
        "\n",
        "    # x=tf.keras.layers.Dropout(rate=dropout, seed=seed_value)(x)\n",
        "    x =tf.keras.layers.Dense(2048, kernel_regularizer = regularizers.l2(l = 0.016),activity_regularizer=regularizers.l1(0.006), bias_regularizer=regularizers.l1(0.006) ,activation='relu', kernel_initializer= tf.keras.initializers.GlorotUniform(seed=sd))(x)\n",
        "    # x=tf.keras.layers.Dropout(rate=dropout, seed=seed_value)(x)\n",
        "    outputs=tf.keras.layers.Dense(class_count, activation='softmax',kernel_initializer=tf.keras.initializers.GlorotUniform(seed=sd))(x)\n",
        "    model=Model(inputs, outputs)\n",
        "\n",
        "    model.compile(Adamax(learning_rate=lr), loss='categorical_crossentropy', metrics=['accuracy'])\n",
        "\n",
        "    from keras.callbacks import ModelCheckpoint\n",
        "    checkpoint = ModelCheckpoint(\"/model-{epoch:03d}-{accuracy:03f}-{val_accuracy:03f}.h5\", verbose=1, monitor='val_loss',save_best_only=True, mode='auto') \n",
        "\n",
        "    history=model.fit(x=train_gen,  epochs=epochs, verbose=2, validation_data=valid_gen, callbacks=[checkpoint],\n",
        "               validation_steps=None,  shuffle=False,  initial_epoch=0)\n",
        "    \n",
        "\n",
        "     ####### Fine-Tune ######\n",
        "    base_model.trainable=True\n",
        "    tune_epochs = fine_tune_epochs\n",
        "    total_epochs= epochs + tune_epochs\n",
        "\n",
        "    model.compile(Adamax(learning_rate=lr/10), loss='categorical_crossentropy', metrics=['accuracy'])\n",
        "    \n",
        "    history_fine = model.fit(x=train_gen,  epochs=total_epochs, verbose=2, validation_data=valid_gen,\n",
        "               validation_steps=None,  shuffle=False,  initial_epoch=epochs)\n",
        "    \n",
        "\n",
        "    y_pred = model.predict(test_gen)\n",
        "    y_pred = np.argmax(y_pred, axis=1)\n",
        "\n",
        "    y_true = test_gen.classes\n",
        "\n",
        "    d[\"precision\"].append(float(precision_score(y_true, y_pred, average='weighted')))\n",
        "    d[\"recall\"].append(float(recall_score(y_true, y_pred, average='weighted')))\n",
        "    d[\"f1_score\"].append(float(f1_score(y_true, y_pred, average='weighted')))\n",
        "    d['accuracy'].append(float(accuracy_score(y_true, y_pred)))"
      ]
    },
    {
      "cell_type": "code",
      "execution_count": null,
      "metadata": {
        "id": "5la5OYfhkVcs"
      },
      "outputs": [],
      "source": [
        "from google.colab import files\n",
        "print(seed)\n",
        "d['seed_value'] = seed\n",
        "result = pd.DataFrame(d, index = [\"run-\"+str(i+1) for i in range(5)])\n",
        "print(result)\n",
        "result.to_csv(\"Resnet50.csv\")\n",
        "files.download('Resnet50_result.csv')"
      ]
    },
    {
      "cell_type": "code",
      "execution_count": null,
      "metadata": {
        "id": "I1EYGUEBWfT_"
      },
      "outputs": [],
      "source": [
        ""
      ]
    }
  ],
  "metadata": {
    "accelerator": "GPU",
    "colab": {
      "name": "Resnet-50_Storing_Result_in_CSV.ipynb",
      "provenance": [],
      "mount_file_id": "1b9FVrnzTomGU_D2YmvRGrgB_KQjUCyqe",
      "authorship_tag": "ABX9TyM9su/ANiQd8kFVx10rblvw",
      "include_colab_link": true
    },
    "kernelspec": {
      "display_name": "Python 3",
      "name": "python3"
    },
    "language_info": {
      "name": "python"
    }
  },
  "nbformat": 4,
  "nbformat_minor": 0
}